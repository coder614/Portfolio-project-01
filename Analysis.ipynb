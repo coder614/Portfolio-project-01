{
 "cells": [
  {
   "cell_type": "code",
   "execution_count": 1,
   "id": "b6fca2e2-a54d-4acf-a305-eca8d48400c8",
   "metadata": {},
   "outputs": [],
   "source": [
    "import pandas as pd\n",
    "import numpy as np\n",
    "import matplotlib.pyplot as plt\n",
    "import seaborn as sns"
   ]
  },
  {
   "cell_type": "code",
   "execution_count": 2,
   "id": "0b25cdb6-409e-4ded-ba08-b8e3dd79cc6e",
   "metadata": {},
   "outputs": [],
   "source": [
    "df = pd.read_csv(\"Amazon_Data.csv\")"
   ]
  },
  {
   "cell_type": "code",
   "execution_count": 3,
   "id": "a1e188e3-0cf1-4b3c-8788-277a2413ed8e",
   "metadata": {},
   "outputs": [],
   "source": [
    "data = df.copy()"
   ]
  },
  {
   "cell_type": "code",
   "execution_count": 4,
   "id": "6bbff407-1264-494d-88d4-93d3475360e4",
   "metadata": {},
   "outputs": [],
   "source": [
    "data.drop('Shipment', axis=1, inplace=True)"
   ]
  },
  {
   "cell_type": "code",
   "execution_count": 5,
   "id": "b4037e7b-3884-448c-8807-6032695e42da",
   "metadata": {},
   "outputs": [],
   "source": [
    "data.drop('Product Description', axis=1, inplace=True)"
   ]
  },
  {
   "cell_type": "code",
   "execution_count": 6,
   "id": "17ff85f7-e7ab-4470-919b-dd6ccafac9b5",
   "metadata": {},
   "outputs": [],
   "source": [
    "data['Order Date'] = pd.to_datetime(data['Order Date'], format='%d/%m/%Y')"
   ]
  },
  {
   "cell_type": "code",
   "execution_count": 7,
   "id": "cbf8ec86-ad56-4ae1-96b6-06c42d515d0f",
   "metadata": {},
   "outputs": [],
   "source": [
    "data[\"Order Week\"] = data[\"Order Date\"].dt.dayofweek"
   ]
  },
  {
   "cell_type": "code",
   "execution_count": 8,
   "id": "4c0f92f1-8157-4b57-88bd-10e1c17ac326",
   "metadata": {},
   "outputs": [],
   "source": [
    "data[\"Order Month\"] = data[\"Order Date\"].dt.month"
   ]
  },
  {
   "cell_type": "code",
   "execution_count": 9,
   "id": "515769c6-1441-40ba-9b33-d4063f819e92",
   "metadata": {},
   "outputs": [],
   "source": [
    "data[\"Order Year\"] = data[\"Order Date\"].dt.year"
   ]
  },
  {
   "cell_type": "code",
   "execution_count": 10,
   "id": "226ea4e5-d320-476d-bb47-621244bb0c9b",
   "metadata": {},
   "outputs": [],
   "source": [
    "data[\"Total Sales\"] = data[\"Number of  reviews\"] * data[\"Price(Dollar)\"]"
   ]
  },
  {
   "cell_type": "code",
   "execution_count": 11,
   "id": "924e7a07-ad84-4189-874c-24dcd8d99334",
   "metadata": {},
   "outputs": [],
   "source": [
    "da = data.copy()"
   ]
  },
  {
   "cell_type": "code",
   "execution_count": 12,
   "id": "cf12fa5d-8d71-4b15-baad-25c4a9e85757",
   "metadata": {},
   "outputs": [
    {
     "data": {
      "text/html": [
       "<div>\n",
       "<style scoped>\n",
       "    .dataframe tbody tr th:only-of-type {\n",
       "        vertical-align: middle;\n",
       "    }\n",
       "\n",
       "    .dataframe tbody tr th {\n",
       "        vertical-align: top;\n",
       "    }\n",
       "\n",
       "    .dataframe thead th {\n",
       "        text-align: right;\n",
       "    }\n",
       "</style>\n",
       "<table border=\"1\" class=\"dataframe\">\n",
       "  <thead>\n",
       "    <tr style=\"text-align: right;\">\n",
       "      <th></th>\n",
       "      <th>Product Category</th>\n",
       "      <th>Price(Dollar)</th>\n",
       "      <th>Number of  reviews</th>\n",
       "      <th>Order Date</th>\n",
       "      <th>Order Week</th>\n",
       "      <th>Order Month</th>\n",
       "      <th>Order Year</th>\n",
       "      <th>Total Sales</th>\n",
       "    </tr>\n",
       "  </thead>\n",
       "  <tbody>\n",
       "    <tr>\n",
       "      <th>0</th>\n",
       "      <td>Audio Video</td>\n",
       "      <td>27</td>\n",
       "      <td>82773</td>\n",
       "      <td>2019-01-03</td>\n",
       "      <td>3</td>\n",
       "      <td>1</td>\n",
       "      <td>2019</td>\n",
       "      <td>2234871</td>\n",
       "    </tr>\n",
       "    <tr>\n",
       "      <th>1</th>\n",
       "      <td>Audio Video</td>\n",
       "      <td>54</td>\n",
       "      <td>5121</td>\n",
       "      <td>2019-01-04</td>\n",
       "      <td>4</td>\n",
       "      <td>1</td>\n",
       "      <td>2019</td>\n",
       "      <td>276534</td>\n",
       "    </tr>\n",
       "    <tr>\n",
       "      <th>2</th>\n",
       "      <td>Audio Video</td>\n",
       "      <td>24</td>\n",
       "      <td>126957</td>\n",
       "      <td>2019-01-04</td>\n",
       "      <td>4</td>\n",
       "      <td>1</td>\n",
       "      <td>2019</td>\n",
       "      <td>3046968</td>\n",
       "    </tr>\n",
       "    <tr>\n",
       "      <th>3</th>\n",
       "      <td>Audio Video</td>\n",
       "      <td>15</td>\n",
       "      <td>18837</td>\n",
       "      <td>2019-01-04</td>\n",
       "      <td>4</td>\n",
       "      <td>1</td>\n",
       "      <td>2019</td>\n",
       "      <td>282555</td>\n",
       "    </tr>\n",
       "    <tr>\n",
       "      <th>4</th>\n",
       "      <td>Audio Video</td>\n",
       "      <td>78</td>\n",
       "      <td>13141</td>\n",
       "      <td>2019-01-05</td>\n",
       "      <td>5</td>\n",
       "      <td>1</td>\n",
       "      <td>2019</td>\n",
       "      <td>1024998</td>\n",
       "    </tr>\n",
       "  </tbody>\n",
       "</table>\n",
       "</div>"
      ],
      "text/plain": [
       "  Product Category  Price(Dollar)  Number of  reviews Order Date  Order Week  \\\n",
       "0     Audio Video              27               82773 2019-01-03           3   \n",
       "1     Audio Video              54                5121 2019-01-04           4   \n",
       "2     Audio Video              24              126957 2019-01-04           4   \n",
       "3     Audio Video              15               18837 2019-01-04           4   \n",
       "4     Audio Video              78               13141 2019-01-05           5   \n",
       "\n",
       "   Order Month  Order Year  Total Sales  \n",
       "0            1        2019      2234871  \n",
       "1            1        2019       276534  \n",
       "2            1        2019      3046968  \n",
       "3            1        2019       282555  \n",
       "4            1        2019      1024998  "
      ]
     },
     "execution_count": 12,
     "metadata": {},
     "output_type": "execute_result"
    }
   ],
   "source": [
    "da.head()"
   ]
  },
  {
   "cell_type": "code",
   "execution_count": 17,
   "id": "398a5302-a396-45e1-b60e-c96138e01203",
   "metadata": {},
   "outputs": [],
   "source": [
    "da.to_csv(\"Process_Data.csv\", index=False)"
   ]
  },
  {
   "cell_type": "code",
   "execution_count": 13,
   "id": "6e261ab2-4a8c-4351-9220-aa3510423f2e",
   "metadata": {},
   "outputs": [],
   "source": [
    "yearly_sales = da.groupby('Order Year')['Total Sales'].sum().reset_index()"
   ]
  },
  {
   "cell_type": "code",
   "execution_count": 16,
   "id": "116ba113-3b94-4fe2-bf2d-ee71ec0444f4",
   "metadata": {},
   "outputs": [
    {
     "data": {
      "text/plain": [
       "Text(0, 0.5, 'Total Sales')"
      ]
     },
     "execution_count": 16,
     "metadata": {},
     "output_type": "execute_result"
    },
    {
     "data": {
      "image/png": "[encoded data removed]",
      "text/plain": [
       "<Figure size 600x400 with 1 Axes>"
      ]
     },
     "metadata": {},
     "output_type": "display_data"
    }
   ],
   "source": [
    "plt.figure(figsize=(6, 4))\n",
    "sns.barplot(data=yearly_sales, x='Order Year', y='Total Sales')\n",
    "\n",
    "plt.title('Year-on-Year Total Sales')\n",
    "plt.xlabel('Year')\n",
    "plt.ylabel('Total Sales')"
   ]
  },
  {
   "cell_type": "code",
   "execution_count": 15,
   "id": "28dc9b14-b3a7-4498-9faf-7f31467afd76",
   "metadata": {},
   "outputs": [],
   "source": [
    "yearly_sales.to_csv(\"Yearly_sales.csv\", index=False)"
   ]
  }
 ],
 "metadata": {
  "kernelspec": {
   "display_name": "Python 3 (ipykernel)",
   "language": "python",
   "name": "python3"
  },
  "language_info": {
   "codemirror_mode": {
    "name": "ipython",
    "version": 3
   },
   "file_extension": ".py",
   "mimetype": "text/x-python",
   "name": "python",
   "nbconvert_exporter": "python",
   "pygments_lexer": "ipython3",
   "version": "3.13.2"
  }
 },
 "nbformat": 4,
 "nbformat_minor": 5
}
